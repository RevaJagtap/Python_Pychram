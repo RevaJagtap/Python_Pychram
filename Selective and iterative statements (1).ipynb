{
 "cells": [
  {
   "cell_type": "code",
   "execution_count": 7,
   "id": "704da4bd",
   "metadata": {},
   "outputs": [
    {
     "name": "stdout",
     "output_type": "stream",
     "text": [
      "Please select your choice:\n",
      "1.Green\n",
      "2.Red\n",
      "3.Yellow\n",
      "Color:2\n",
      "Wait for a minute and then go\n"
     ]
    }
   ],
   "source": [
    "# Selective Statements:\n",
    "print('Please select your choice:\\n1.Green\\n2.Red\\n3.Yellow')\n",
    "color = input('Color:')\n",
    "if color == 'Green':\n",
    "    print('Go safe, n stay safe')\n",
    "elif color =='Red':\n",
    "    print('Stop')\n",
    "else:\n",
    "    print('Wait for a minute and then go')"
   ]
  },
  {
   "cell_type": "code",
   "execution_count": 4,
   "id": "5c638df8",
   "metadata": {},
   "outputs": [
    {
     "name": "stdout",
     "output_type": "stream",
     "text": [
      "Enter your choice:Idli\n",
      "Yummy\n"
     ]
    }
   ],
   "source": [
    "item =  input('Enter your choice:')\n",
    "if item == 'Biriyani':\n",
    "    print('Enjoy')\n",
    "elif item == 'Veg Pulaw':\n",
    "    print('Delicious')\n",
    "elif item == 'Idli':\n",
    "    print('Yummy')\n",
    "elif item == 'VadaPav':\n",
    "    print('Huhhhhhhh')\n",
    "else:\n",
    "    print('Bhai Paani to pilado')"
   ]
  },
  {
   "cell_type": "code",
   "execution_count": null,
   "id": "b956f4f6",
   "metadata": {},
   "outputs": [],
   "source": [
    " 2. Iterative statement:\n",
    "From collection of elements, will retrieve one element at a time\n",
    "[10,20,30]\n",
    "one after another will fetch one element  at a time\n",
    " 10\n",
    " 20\n",
    " 30\n",
    "- for loop\n",
    "Syntax:\n",
    "for variable_name in sequence/iterable:\n",
    "Example:\n",
    "k = [10,20,30,40,50]\n",
    "for value in k:\n",
    "    print(value)"
   ]
  },
  {
   "cell_type": "code",
   "execution_count": 9,
   "id": "6d663994",
   "metadata": {},
   "outputs": [
    {
     "name": "stdout",
     "output_type": "stream",
     "text": [
      "Abhi\n"
     ]
    }
   ],
   "source": [
    "l=['Abhi']\n",
    "for i in l:\n",
    "    print(i)"
   ]
  },
  {
   "cell_type": "code",
   "execution_count": 14,
   "id": "73d00c6e",
   "metadata": {},
   "outputs": [
    {
     "name": "stdout",
     "output_type": "stream",
     "text": [
      "4567"
     ]
    }
   ],
   "source": [
    " s='python is simple to use code:4567' # Fetch code\n",
    "for code in s:\n",
    "    if code.isdigit():\n",
    "        print(code,end='')\n",
    "     \n",
    "    "
   ]
  },
  {
   "cell_type": "code",
   "execution_count": 15,
   "id": "b0d31b9c",
   "metadata": {},
   "outputs": [
    {
     "name": "stdout",
     "output_type": "stream",
     "text": [
      "4567\n"
     ]
    }
   ],
   "source": [
    "s='python is simple to use code:4567'\n",
    "a=s.split(\":\")\n",
    "print(a[-1])"
   ]
  },
  {
   "cell_type": "code",
   "execution_count": 18,
   "id": "4714f2af",
   "metadata": {},
   "outputs": [
    {
     "name": "stdout",
     "output_type": "stream",
     "text": [
      "[44, 33, 5, 15, 45]\n"
     ]
    }
   ],
   "source": [
    "num = [12,44,67,21,33,56,5,15,23,45] #select num divisible by 5,divisible by 5 and 11\n",
    "num1=[]\n",
    "for i in num:\n",
    "    if i%5==0 or i%11==0 :\n",
    "        num1.append(i)\n",
    "print(num1)        "
   ]
  },
  {
   "cell_type": "code",
   "execution_count": 23,
   "id": "36ec3685",
   "metadata": {},
   "outputs": [
    {
     "name": "stdout",
     "output_type": "stream",
     "text": [
      "average marks= 23.33\n"
     ]
    }
   ],
   "source": [
    "msg =  'chintu got marks 21 24 25' #display addition of marks average of marks\n",
    "avg=[]\n",
    "for i in msg.split():\n",
    "    if i.isnumeric():\n",
    "        avg.append(int(i))\n",
    "print('average marks=',round(sum(avg)/len(avg),2))"
   ]
  },
  {
   "cell_type": "markdown",
   "id": "3c471751",
   "metadata": {},
   "source": [
    "### Patterns"
   ]
  },
  {
   "cell_type": "code",
   "execution_count": 25,
   "id": "f8fab34e",
   "metadata": {},
   "outputs": [
    {
     "name": "stdout",
     "output_type": "stream",
     "text": [
      "*\n",
      "**\n",
      "***\n",
      "****\n",
      "*****\n"
     ]
    }
   ],
   "source": [
    "for i in range(1,6):\n",
    "    print(i*'*')\n"
   ]
  },
  {
   "cell_type": "code",
   "execution_count": 31,
   "id": "84077f34",
   "metadata": {},
   "outputs": [
    {
     "name": "stdout",
     "output_type": "stream",
     "text": [
      "\n",
      "1 \n",
      "1 2 \n",
      "1 2 3 \n",
      "1 2 3 4 \n"
     ]
    }
   ],
   "source": [
    "for i in range(1,6) :\n",
    "    for j in range(1,i): #no of iterations\n",
    "        print(j,end=' ') #for numbers\n",
    "    print() #new line\n",
    "    "
   ]
  },
  {
   "cell_type": "code",
   "execution_count": 33,
   "id": "cf2e1272",
   "metadata": {},
   "outputs": [
    {
     "name": "stdout",
     "output_type": "stream",
     "text": [
      "1\t2\t3\t4\t5\t6\t7\t8\t9\t10\t\n",
      "2\t4\t6\t8\t10\t12\t14\t16\t18\t20\t\n",
      "3\t6\t9\t12\t15\t18\t21\t24\t27\t30\t\n",
      "4\t8\t12\t16\t20\t24\t28\t32\t36\t40\t\n",
      "5\t10\t15\t20\t25\t30\t35\t40\t45\t50\t\n",
      "6\t12\t18\t24\t30\t36\t42\t48\t54\t60\t\n",
      "7\t14\t21\t28\t35\t42\t49\t56\t63\t70\t\n",
      "8\t16\t24\t32\t40\t48\t56\t64\t72\t80\t\n",
      "9\t18\t27\t36\t45\t54\t63\t72\t81\t90\t\n",
      "10\t20\t30\t40\t50\t60\t70\t80\t90\t100\t\n"
     ]
    }
   ],
   "source": [
    "for i in range(1,11) :\n",
    "    for j in range(1,11): #no of iterations\n",
    "        print(i*j,end='\\t') #for numbers\n",
    "    print() #new line"
   ]
  },
  {
   "cell_type": "code",
   "execution_count": 39,
   "id": "7b0992ec",
   "metadata": {},
   "outputs": [
    {
     "name": "stdout",
     "output_type": "stream",
     "text": [
      "\n",
      "A \n",
      "A B \n",
      "A B C \n",
      "A B C D \n",
      "A B C D E \n"
     ]
    }
   ],
   "source": [
    "for i in range(6):\n",
    "    for j in range(i):\n",
    "        print(chr(65+j),end=' ')\n",
    "    print()    "
   ]
  },
  {
   "cell_type": "code",
   "execution_count": 42,
   "id": "ad9b67b0",
   "metadata": {},
   "outputs": [
    {
     "name": "stdout",
     "output_type": "stream",
     "text": [
      "name python\n",
      "age 32\n",
      "dev python.org\n"
     ]
    }
   ],
   "source": [
    "#Dictionary\n",
    "d = {'name':'python','age':32,'dev':'python.org'}\n",
    "for i in d: #default it gives keys of dict\n",
    "   # print(i)\n",
    "    print(i,d[i])"
   ]
  },
  {
   "cell_type": "code",
   "execution_count": 45,
   "id": "775c811e",
   "metadata": {},
   "outputs": [
    {
     "name": "stdout",
     "output_type": "stream",
     "text": [
      "('name', 'python')\n",
      "('age', 32)\n",
      "('dev', 'python.org')\n"
     ]
    }
   ],
   "source": [
    "d = {'name':'python','age':32,'dev':'python.org'}\n",
    "for i in d.items(): \n",
    "     print(i)\n",
    "   # print(i,d[i])"
   ]
  },
  {
   "cell_type": "code",
   "execution_count": null,
   "id": "df5cc41b",
   "metadata": {},
   "outputs": [],
   "source": [
    "# While"
   ]
  },
  {
   "cell_type": "code",
   "execution_count": 48,
   "id": "e6fff0e2",
   "metadata": {},
   "outputs": [
    {
     "name": "stdout",
     "output_type": "stream",
     "text": [
      "1 2 3 4 5 6 7 8 9 10 "
     ]
    }
   ],
   "source": [
    "#Print 1-10 numbers using While loop:\n",
    "num=1\n",
    "while num<11:\n",
    "    print(num,end=' ')\n",
    "    num+=1"
   ]
  },
  {
   "cell_type": "code",
   "execution_count": 50,
   "id": "38ed6a5b",
   "metadata": {},
   "outputs": [
    {
     "name": "stdout",
     "output_type": "stream",
     "text": [
      "Addition of 1 to 10 numbers: 55\n"
     ]
    }
   ],
   "source": [
    "# sum of 1 to 10 numbers using while loop\n",
    "num=1\n",
    "sum1=0\n",
    "while num<11:\n",
    "    #print(num,end=' ')\n",
    "    sum1+=num\n",
    "    num+=1\n",
    "print('Addition of 1 to 10 numbers:',sum1)    "
   ]
  },
  {
   "cell_type": "code",
   "execution_count": 66,
   "id": "2dc5e13f",
   "metadata": {},
   "outputs": [
    {
     "name": "stdout",
     "output_type": "stream",
     "text": [
      "List of primenumbers [2, 3, 5, 7, 11, 13, 17, 19, 23, 29, 31, 37, 41, 43, 47, 53, 59, 61, 67, 71, 73, 79, 83, 89, 97] \n",
      "total numbers: 25\n"
     ]
    }
   ],
   "source": [
    "#Prime numbers between 1 to 10\n",
    "num=2\n",
    "prime=[]\n",
    "while num<100:\n",
    "    for i in range(2,num):\n",
    "        if num%i==0 :\n",
    "            break\n",
    "    else:\n",
    "        prime.append(num)\n",
    "    num+=1\n",
    "print('List of primenumbers',prime,'\\ntotal numbers:',len(prime))"
   ]
  },
  {
   "cell_type": "code",
   "execution_count": 71,
   "id": "7cef566b",
   "metadata": {},
   "outputs": [
    {
     "name": "stdout",
     "output_type": "stream",
     "text": [
      "0 1 2 3 4 5 6 Out of loop\n"
     ]
    }
   ],
   "source": [
    "for i in range(11):\n",
    "    if i == 7:\n",
    "        break #condition based exit\n",
    "    else:\n",
    "        print(i,end=' ')\n",
    "print('Out of loop')"
   ]
  },
  {
   "cell_type": "code",
   "execution_count": 1,
   "id": "f321d375",
   "metadata": {},
   "outputs": [
    {
     "name": "stdout",
     "output_type": "stream",
     "text": [
      "0 1 2 3 4 5 6 8 9 10 Out of loop\n",
      "1123123\n"
     ]
    }
   ],
   "source": [
    "for i in range(11):\n",
    "    if i == 7:\n",
    "        exit()\n",
    "    else:\n",
    "        print(i,end=' ')\n",
    "print('Out of loop')\n",
    "print(1123123)"
   ]
  },
  {
   "cell_type": "code",
   "execution_count": null,
   "id": "f83bd47b",
   "metadata": {},
   "outputs": [],
   "source": []
  },
  {
   "cell_type": "code",
   "execution_count": null,
   "id": "fc6fd5d6",
   "metadata": {},
   "outputs": [],
   "source": []
  }
 ],
 "metadata": {
  "kernelspec": {
   "display_name": "Python 3 (ipykernel)",
   "language": "python",
   "name": "python3"
  },
  "language_info": {
   "codemirror_mode": {
    "name": "ipython",
    "version": 3
   },
   "file_extension": ".py",
   "mimetype": "text/x-python",
   "name": "python",
   "nbconvert_exporter": "python",
   "pygments_lexer": "ipython3",
   "version": "3.9.13"
  }
 },
 "nbformat": 4,
 "nbformat_minor": 5
}
