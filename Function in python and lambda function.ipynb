{
 "cells": [
  {
   "cell_type": "code",
   "execution_count": 1,
   "id": "8efb7fe8",
   "metadata": {},
   "outputs": [],
   "source": [
    "#Function:\n",
    "#It is one building block,which contains variables and operations\n",
    "#This single unit is very useful to execute the code inside it, multiple times."
   ]
  },
  {
   "cell_type": "code",
   "execution_count": 2,
   "id": "4e338c94",
   "metadata": {},
   "outputs": [
    {
     "name": "stdout",
     "output_type": "stream",
     "text": [
      "30\n",
      "3.141592653589793\n",
      "30\n",
      "30\n"
     ]
    }
   ],
   "source": [
    "def add():\n",
    "    print(10+20)\n",
    "a = 3\n",
    "b = 4\n",
    "add()\n",
    "from math import pi\n",
    "print(pi)\n",
    "add()\n",
    "add()"
   ]
  },
  {
   "cell_type": "code",
   "execution_count": 3,
   "id": "04370004",
   "metadata": {},
   "outputs": [
    {
     "name": "stdout",
     "output_type": "stream",
     "text": [
      "7\n",
      "3.141592653589793\n",
      "50\n",
      "700\n"
     ]
    }
   ],
   "source": [
    "def add(a,b):\n",
    "    print(a+b)\n",
    "a = 3\n",
    "b = 4\n",
    "add(a,b)\n",
    "from math import pi\n",
    "print(pi)\n",
    "add(10,40)\n",
    "add(300,400)"
   ]
  },
  {
   "cell_type": "code",
   "execution_count": 4,
   "id": "e7bb9c3c",
   "metadata": {},
   "outputs": [
    {
     "name": "stdout",
     "output_type": "stream",
     "text": [
      "300\n"
     ]
    }
   ],
   "source": [
    "def add():# declaration\n",
    "    a = 200 # var a\n",
    "    b = 100 #var b\n",
    "    print(a+b) #print func\n",
    "add() # calling"
   ]
  },
  {
   "cell_type": "code",
   "execution_count": 7,
   "id": "a22d5f15",
   "metadata": {},
   "outputs": [
    {
     "name": "stdout",
     "output_type": "stream",
     "text": [
      "300\n"
     ]
    },
    {
     "ename": "NameError",
     "evalue": "name 'x' is not defined",
     "output_type": "error",
     "traceback": [
      "\u001b[1;31m---------------------------------------------------------------------------\u001b[0m",
      "\u001b[1;31mNameError\u001b[0m                                 Traceback (most recent call last)",
      "\u001b[1;32m~\\AppData\\Local\\Temp\\ipykernel_6936\\3131016086.py\u001b[0m in \u001b[0;36m<module>\u001b[1;34m\u001b[0m\n\u001b[0;32m      4\u001b[0m     \u001b[0mprint\u001b[0m\u001b[1;33m(\u001b[0m\u001b[0mx\u001b[0m\u001b[1;33m+\u001b[0m\u001b[0my\u001b[0m\u001b[1;33m)\u001b[0m \u001b[1;31m#print func\u001b[0m\u001b[1;33m\u001b[0m\u001b[1;33m\u001b[0m\u001b[0m\n\u001b[0;32m      5\u001b[0m \u001b[0madd\u001b[0m\u001b[1;33m(\u001b[0m\u001b[1;33m)\u001b[0m \u001b[1;31m# calling\u001b[0m\u001b[1;33m\u001b[0m\u001b[1;33m\u001b[0m\u001b[0m\n\u001b[1;32m----> 6\u001b[1;33m \u001b[0mprint\u001b[0m\u001b[1;33m(\u001b[0m\u001b[0mx\u001b[0m\u001b[1;33m+\u001b[0m\u001b[0my\u001b[0m\u001b[1;33m)\u001b[0m\u001b[1;31m# a, b local var's not accessible outside\u001b[0m\u001b[1;33m\u001b[0m\u001b[1;33m\u001b[0m\u001b[0m\n\u001b[0m",
      "\u001b[1;31mNameError\u001b[0m: name 'x' is not defined"
     ]
    }
   ],
   "source": [
    "def add():# declaration\n",
    "    x = 200 # var a\n",
    "    y = 100 #var b\n",
    "    print(x+y) #print func\n",
    "add() # calling\n",
    "print(x+y)# a, b local var's not accessible outside"
   ]
  },
  {
   "cell_type": "markdown",
   "id": "c207884f",
   "metadata": {},
   "source": [
    "1. Local Variables:\n",
    "these are available only inside the scope/block\n",
    "outside the block, local var's wil nt be available"
   ]
  },
  {
   "cell_type": "markdown",
   "id": "8570ac1c",
   "metadata": {},
   "source": [
    " Global Variable: which is accessible everywhere\n",
    "when we declare the variables outside and before \n",
    "the declaration of a function"
   ]
  },
  {
   "cell_type": "code",
   "execution_count": 9,
   "id": "1264744b",
   "metadata": {},
   "outputs": [
    {
     "name": "stdout",
     "output_type": "stream",
     "text": [
      "Inside: 60\n",
      "Outside: 60\n"
     ]
    }
   ],
   "source": [
    "# global a,b\n",
    "a = 20\n",
    "b = 40\n",
    "def add():\n",
    "    print('Inside:',a+b)\n",
    "add()\n",
    "print('Outside:',a+b)"
   ]
  },
  {
   "cell_type": "code",
   "execution_count": 10,
   "id": "2a755092",
   "metadata": {},
   "outputs": [
    {
     "name": "stdout",
     "output_type": "stream",
     "text": [
      "Inside: 60\n",
      "Outside: 60\n"
     ]
    }
   ],
   "source": [
    "# global a,b\n",
    "\n",
    "def add():\n",
    "    print('Inside:',a+b)\n",
    "b = 40\n",
    "a = 20\n",
    "add()\n",
    "print('Outside:',a+b)"
   ]
  },
  {
   "cell_type": "code",
   "execution_count": 12,
   "id": "9b9c5442",
   "metadata": {},
   "outputs": [
    {
     "ename": "NameError",
     "evalue": "name 'c' is not defined",
     "output_type": "error",
     "traceback": [
      "\u001b[1;31m---------------------------------------------------------------------------\u001b[0m",
      "\u001b[1;31mNameError\u001b[0m                                 Traceback (most recent call last)",
      "\u001b[1;32m~\\AppData\\Local\\Temp\\ipykernel_6936\\299576991.py\u001b[0m in \u001b[0;36m<module>\u001b[1;34m\u001b[0m\n\u001b[0;32m      2\u001b[0m     \u001b[0mprint\u001b[0m\u001b[1;33m(\u001b[0m\u001b[1;34m'Inside:'\u001b[0m\u001b[1;33m,\u001b[0m\u001b[0mc\u001b[0m\u001b[1;33m+\u001b[0m\u001b[0md\u001b[0m\u001b[1;33m)\u001b[0m\u001b[1;33m\u001b[0m\u001b[1;33m\u001b[0m\u001b[0m\n\u001b[0;32m      3\u001b[0m \u001b[1;33m\u001b[0m\u001b[0m\n\u001b[1;32m----> 4\u001b[1;33m \u001b[0madd\u001b[0m\u001b[1;33m(\u001b[0m\u001b[1;33m)\u001b[0m\u001b[1;33m\u001b[0m\u001b[1;33m\u001b[0m\u001b[0m\n\u001b[0m\u001b[0;32m      5\u001b[0m \u001b[0mc\u001b[0m\u001b[1;33m=\u001b[0m\u001b[1;36m40\u001b[0m\u001b[1;33m\u001b[0m\u001b[1;33m\u001b[0m\u001b[0m\n\u001b[0;32m      6\u001b[0m \u001b[0md\u001b[0m\u001b[1;33m=\u001b[0m\u001b[1;36m20\u001b[0m\u001b[1;33m\u001b[0m\u001b[1;33m\u001b[0m\u001b[0m\n",
      "\u001b[1;32m~\\AppData\\Local\\Temp\\ipykernel_6936\\299576991.py\u001b[0m in \u001b[0;36madd\u001b[1;34m()\u001b[0m\n\u001b[0;32m      1\u001b[0m \u001b[1;32mdef\u001b[0m \u001b[0madd\u001b[0m\u001b[1;33m(\u001b[0m\u001b[1;33m)\u001b[0m\u001b[1;33m:\u001b[0m\u001b[1;33m\u001b[0m\u001b[1;33m\u001b[0m\u001b[0m\n\u001b[1;32m----> 2\u001b[1;33m     \u001b[0mprint\u001b[0m\u001b[1;33m(\u001b[0m\u001b[1;34m'Inside:'\u001b[0m\u001b[1;33m,\u001b[0m\u001b[0mc\u001b[0m\u001b[1;33m+\u001b[0m\u001b[0md\u001b[0m\u001b[1;33m)\u001b[0m\u001b[1;33m\u001b[0m\u001b[1;33m\u001b[0m\u001b[0m\n\u001b[0m\u001b[0;32m      3\u001b[0m \u001b[1;33m\u001b[0m\u001b[0m\n\u001b[0;32m      4\u001b[0m \u001b[0madd\u001b[0m\u001b[1;33m(\u001b[0m\u001b[1;33m)\u001b[0m\u001b[1;33m\u001b[0m\u001b[1;33m\u001b[0m\u001b[0m\n\u001b[0;32m      5\u001b[0m \u001b[0mc\u001b[0m\u001b[1;33m=\u001b[0m\u001b[1;36m40\u001b[0m\u001b[1;33m\u001b[0m\u001b[1;33m\u001b[0m\u001b[0m\n",
      "\u001b[1;31mNameError\u001b[0m: name 'c' is not defined"
     ]
    }
   ],
   "source": [
    "def add():\n",
    "    print('Inside:',c+d)\n",
    "\n",
    "add()\n",
    "c=40\n",
    "d=20\n",
    "print('Outside:',c+d)"
   ]
  },
  {
   "cell_type": "code",
   "execution_count": 15,
   "id": "bb1764a9",
   "metadata": {},
   "outputs": [
    {
     "name": "stdout",
     "output_type": "stream",
     "text": [
      "outside: 60\n",
      "Inside: 60\n",
      "Outside: 60\n"
     ]
    }
   ],
   "source": [
    "def add():\n",
    "    print('Inside:',c+d)\n",
    "c=40\n",
    "d=20\n",
    "add()\n",
    "\n",
    "print('Outside:',c+d)"
   ]
  },
  {
   "cell_type": "code",
   "execution_count": 14,
   "id": "0026c802",
   "metadata": {},
   "outputs": [
    {
     "name": "stdout",
     "output_type": "stream",
     "text": [
      "50\n",
      "3\n",
      "50\n"
     ]
    }
   ],
   "source": [
    "a = 20\n",
    "b = 30\n",
    "def sample():\n",
    "    # local vars.\n",
    "    a = 1\n",
    "    b = 2\n",
    "    print(a+b)\n",
    "\n",
    "print(a+b)\n",
    "sample()\n",
    "print(a+b)"
   ]
  },
  {
   "cell_type": "code",
   "execution_count": 16,
   "id": "816bbdc6",
   "metadata": {},
   "outputs": [
    {
     "name": "stdout",
     "output_type": "stream",
     "text": [
      "10\n",
      "300\n"
     ]
    }
   ],
   "source": [
    "x = 100\n",
    "def sample():\n",
    "    x = 10\n",
    "    print(x)\n",
    "sample()\n",
    "print(x+200)"
   ]
  },
  {
   "cell_type": "code",
   "execution_count": 25,
   "id": "2e48538b",
   "metadata": {},
   "outputs": [
    {
     "name": "stdout",
     "output_type": "stream",
     "text": [
      "120\n"
     ]
    }
   ],
   "source": [
    "x = 100\n",
    "def sample():\n",
    "    #print(x+100)\n",
    "    x=20\n",
    "    # lets try to change value of a global x\n",
    "    x = x + 100\n",
    "    print(x)\n",
    "sample()\n",
    "# This will give u Unbound Local error\n",
    "\n",
    "#means we are not allowed to change global value inside a local scope But if u have a local x then definetly u can change value of it"
   ]
  },
  {
   "cell_type": "code",
   "execution_count": 28,
   "id": "ad6d6015",
   "metadata": {},
   "outputs": [
    {
     "name": "stdout",
     "output_type": "stream",
     "text": [
      "120\n",
      "100\n"
     ]
    }
   ],
   "source": [
    "x = 100\n",
    "def sample():\n",
    "    #print(x+100)\n",
    "    x = 20 # local\n",
    "    # lets try to change value of a global x\n",
    "    x = x + 100\n",
    "    print(x)\n",
    "sample()\n",
    "print(x)"
   ]
  },
  {
   "cell_type": "code",
   "execution_count": 27,
   "id": "17e7f27c",
   "metadata": {},
   "outputs": [
    {
     "name": "stdout",
     "output_type": "stream",
     "text": [
      "200\n",
      "200\n"
     ]
    }
   ],
   "source": [
    "x = 100\n",
    "def sample():\n",
    "    global x # it will allows u to change global value inside a local scope\n",
    "    # lets try to change value of a global x\n",
    "    x = x + 100\n",
    "    print(x)\n",
    "sample()\n",
    "print(x)"
   ]
  },
  {
   "cell_type": "markdown",
   "id": "cf1c7c96",
   "metadata": {},
   "source": [
    "Return"
   ]
  },
  {
   "cell_type": "code",
   "execution_count": 29,
   "id": "db63b0b1",
   "metadata": {},
   "outputs": [
    {
     "name": "stdout",
     "output_type": "stream",
     "text": [
      "None\n"
     ]
    }
   ],
   "source": [
    "def sample():\n",
    "    pass\n",
    "print(sample())"
   ]
  },
  {
   "cell_type": "code",
   "execution_count": 30,
   "id": "51aaac21",
   "metadata": {},
   "outputs": [
    {
     "data": {
      "text/plain": [
       "'Pooja'"
      ]
     },
     "execution_count": 30,
     "metadata": {},
     "output_type": "execute_result"
    }
   ],
   "source": [
    "def sample():\n",
    "    return 'Pooja'\n",
    "#print(sample()) # for pycharm\n",
    "sample()"
   ]
  },
  {
   "cell_type": "code",
   "execution_count": 31,
   "id": "a79c81d1",
   "metadata": {},
   "outputs": [
    {
     "name": "stdout",
     "output_type": "stream",
     "text": [
      "45\n",
      "None\n"
     ]
    }
   ],
   "source": [
    "print(print(45))# print doesnt return anything"
   ]
  },
  {
   "cell_type": "code",
   "execution_count": 32,
   "id": "e8be8a04",
   "metadata": {},
   "outputs": [
    {
     "name": "stdout",
     "output_type": "stream",
     "text": [
      "\n"
     ]
    }
   ],
   "source": [
    "print()"
   ]
  },
  {
   "cell_type": "code",
   "execution_count": 34,
   "id": "6aaa0132",
   "metadata": {},
   "outputs": [
    {
     "name": "stdout",
     "output_type": "stream",
     "text": [
      "HomeQ\n",
      "HomeQ\n"
     ]
    }
   ],
   "source": [
    "def report():\n",
    "    check = '-ve'\n",
    "    if check == '+ve':\n",
    "        return 'admit'\n",
    "    else:\n",
    "        return 'HomeQ'\n",
    "print(report())\n",
    "step = report()\n",
    "\n",
    "if step == 'admit':\n",
    "    print('check vacant beds')\n",
    "else:\n",
    "    print('HomeQ')"
   ]
  },
  {
   "cell_type": "code",
   "execution_count": 35,
   "id": "9fded787",
   "metadata": {},
   "outputs": [
    {
     "name": "stdout",
     "output_type": "stream",
     "text": [
      "(70, -30, 1000, 0.4)\n",
      "70 -30 1000 0.4\n"
     ]
    }
   ],
   "source": [
    "a = 20\n",
    "b = 50\n",
    "def sample():\n",
    "    return a+b,a-b,a*b,a/b\n",
    "print(sample())\n",
    "# unpack the results\n",
    "add,sub,mul,div = sample()\n",
    "print(add,sub,mul,div)"
   ]
  },
  {
   "cell_type": "code",
   "execution_count": null,
   "id": "d233e6df",
   "metadata": {},
   "outputs": [],
   "source": []
  },
  {
   "cell_type": "code",
   "execution_count": 36,
   "id": "10b28f8c",
   "metadata": {},
   "outputs": [
    {
     "name": "stdout",
     "output_type": "stream",
     "text": [
      "(1,)\n",
      "('py', 'c', 'c#')\n",
      "(-1, -2, -3, -4, -5, -6)\n",
      "()\n"
     ]
    }
   ],
   "source": [
    "def show(*n): #variable length positional argument\n",
    "    print(n)\n",
    "\n",
    "show(1)\n",
    "show('py','c','c#')\n",
    "show(-1,-2,-3,-4,-5,-6)\n",
    "show()"
   ]
  },
  {
   "cell_type": "code",
   "execution_count": 41,
   "id": "372a4e65",
   "metadata": {},
   "outputs": [
    {
     "name": "stdout",
     "output_type": "stream",
     "text": [
      "{'a': 10, 'b': 20}\n",
      "{}\n",
      "{'name': 'anil', 'age': 45, 'place': 'pune'}\n"
     ]
    }
   ],
   "source": [
    "def show(**n): # variable length keyword argument\n",
    "    print(n)\n",
    "show(a=10,b=20)\n",
    "show()\n",
    "show(name='anil',age=45,place='pune')\n"
   ]
  },
  {
   "cell_type": "code",
   "execution_count": null,
   "id": "92624c5a",
   "metadata": {},
   "outputs": [],
   "source": [
    "#What is difference between *args and **kwargs?\n",
    "*args                 **kwargs\n",
    "output tuple form       dictionary\n",
    "immutable               mutable"
   ]
  },
  {
   "cell_type": "code",
   "execution_count": 45,
   "id": "26f65ed0",
   "metadata": {},
   "outputs": [
    {
     "data": {
      "text/plain": [
       "'anil'"
      ]
     },
     "execution_count": 45,
     "metadata": {},
     "output_type": "execute_result"
    }
   ],
   "source": [
    "def show(**n): # variable length keyword argument\n",
    "    return(n)\n",
    "show(a=10,b=20)\n",
    "show()\n",
    "info=show(name='anil',age=45,place='pune')\n",
    "info['name']"
   ]
  },
  {
   "cell_type": "code",
   "execution_count": 46,
   "id": "1e452047",
   "metadata": {},
   "outputs": [
    {
     "name": "stdout",
     "output_type": "stream",
     "text": [
      "GUEST\n",
      "RAMESH\n"
     ]
    }
   ],
   "source": [
    "# default arg\n",
    "conv = lambda nm='Guest':nm.upper()\n",
    "print(conv())\n",
    "print(conv('ramesh'))\n"
   ]
  },
  {
   "cell_type": "code",
   "execution_count": null,
   "id": "5fae758d",
   "metadata": {},
   "outputs": [],
   "source": []
  }
 ],
 "metadata": {
  "kernelspec": {
   "display_name": "Python 3 (ipykernel)",
   "language": "python",
   "name": "python3"
  },
  "language_info": {
   "codemirror_mode": {
    "name": "ipython",
    "version": 3
   },
   "file_extension": ".py",
   "mimetype": "text/x-python",
   "name": "python",
   "nbconvert_exporter": "python",
   "pygments_lexer": "ipython3",
   "version": "3.9.13"
  }
 },
 "nbformat": 4,
 "nbformat_minor": 5
}
